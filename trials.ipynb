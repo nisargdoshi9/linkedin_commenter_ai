{
 "cells": [
  {
   "cell_type": "markdown",
   "metadata": {},
   "source": [
    "### Summarization"
   ]
  },
  {
   "cell_type": "code",
   "execution_count": 1,
   "metadata": {},
   "outputs": [
    {
     "name": "stderr",
     "output_type": "stream",
     "text": [
      "/Users/nisargdoshi/Downloads/work/onm/keypoint_keras/keypoint_env/lib/python3.11/site-packages/tqdm/auto.py:21: TqdmWarning: IProgress not found. Please update jupyter and ipywidgets. See https://ipywidgets.readthedocs.io/en/stable/user_install.html\n",
      "  from .autonotebook import tqdm as notebook_tqdm\n",
      "config.json: 100%|██████████| 1.49k/1.49k [00:00<00:00, 3.89MB/s]\n",
      "model.safetensors: 100%|██████████| 242M/242M [00:25<00:00, 9.53MB/s] \n",
      "generation_config.json: 100%|██████████| 112/112 [00:00<00:00, 383kB/s]\n",
      "tokenizer_config.json: 100%|██████████| 2.32k/2.32k [00:00<00:00, 6.85MB/s]\n",
      "spiece.model: 100%|██████████| 792k/792k [00:00<00:00, 3.70MB/s]\n",
      "tokenizer.json: 100%|██████████| 2.42M/2.42M [00:00<00:00, 2.71MB/s]\n",
      "special_tokens_map.json: 100%|██████████| 2.20k/2.20k [00:00<00:00, 5.41MB/s]\n",
      "Token indices sequence length is longer than the specified maximum sequence length for this model (851 > 512). Running this sequence through the model will result in indexing errors\n",
      "Your max_length is set to 1000, but your input_length is only 851. Since this is a summarization task, where outputs shorter than the input are typically wanted, you might consider decreasing max_length manually, e.g. summarizer('...', max_length=425)\n"
     ]
    },
    {
     "name": "stdout",
     "output_type": "stream",
     "text": [
      "[{'summary_text': 'Hugging Face has emerged as a prominent and innovative force in NLP . From its inception to its role in democratizing AI, the company has left an indelible mark on the industry . The name \"Hugging Face\" was chosen to reflect the company\\'s mission of making AI models more accessible and friendly to humans .'}]\n"
     ]
    }
   ],
   "source": [
    "from transformers import pipeline\n",
    "\n",
    "summarizer = pipeline(\"summarization\", model=\"Falconsai/text_summarization\")\n",
    "\n",
    "ARTICLE = \"\"\" \n",
    "Hugging Face: Revolutionizing Natural Language Processing\n",
    "Introduction\n",
    "In the rapidly evolving field of Natural Language Processing (NLP), Hugging Face has emerged as a prominent and innovative force. This article will explore the story and significance of Hugging Face, a company that has made remarkable contributions to NLP and AI as a whole. From its inception to its role in democratizing AI, Hugging Face has left an indelible mark on the industry.\n",
    "The Birth of Hugging Face\n",
    "Hugging Face was founded in 2016 by Clément Delangue, Julien Chaumond, and Thomas Wolf. The name \"Hugging Face\" was chosen to reflect the company's mission of making AI models more accessible and friendly to humans, much like a comforting hug. Initially, they began as a chatbot company but later shifted their focus to NLP, driven by their belief in the transformative potential of this technology.\n",
    "Transformative Innovations\n",
    "Hugging Face is best known for its open-source contributions, particularly the \"Transformers\" library. This library has become the de facto standard for NLP and enables researchers, developers, and organizations to easily access and utilize state-of-the-art pre-trained language models, such as BERT, GPT-3, and more. These models have countless applications, from chatbots and virtual assistants to language translation and sentiment analysis.\n",
    "Key Contributions:\n",
    "1. **Transformers Library:** The Transformers library provides a unified interface for more than 50 pre-trained models, simplifying the development of NLP applications. It allows users to fine-tune these models for specific tasks, making it accessible to a wider audience.\n",
    "2. **Model Hub:** Hugging Face's Model Hub is a treasure trove of pre-trained models, making it simple for anyone to access, experiment with, and fine-tune models. Researchers and developers around the world can collaborate and share their models through this platform.\n",
    "3. **Hugging Face Transformers Community:** Hugging Face has fostered a vibrant online community where developers, researchers, and AI enthusiasts can share their knowledge, code, and insights. This collaborative spirit has accelerated the growth of NLP.\n",
    "Democratizing AI\n",
    "Hugging Face's most significant impact has been the democratization of AI and NLP. Their commitment to open-source development has made powerful AI models accessible to individuals, startups, and established organizations. This approach contrasts with the traditional proprietary AI model market, which often limits access to those with substantial resources.\n",
    "By providing open-source models and tools, Hugging Face has empowered a diverse array of users to innovate and create their own NLP applications. This shift has fostered inclusivity, allowing a broader range of voices to contribute to AI research and development.\n",
    "Industry Adoption\n",
    "The success and impact of Hugging Face are evident in its widespread adoption. Numerous companies and institutions, from startups to tech giants, leverage Hugging Face's technology for their AI applications. This includes industries as varied as healthcare, finance, and entertainment, showcasing the versatility of NLP and Hugging Face's contributions.\n",
    "Future Directions\n",
    "Hugging Face's journey is far from over. As of my last knowledge update in September 2021, the company was actively pursuing research into ethical AI, bias reduction in models, and more. Given their track record of innovation and commitment to the AI community, it is likely that they will continue to lead in ethical AI development and promote responsible use of NLP technologies.\n",
    "Conclusion\n",
    "Hugging Face's story is one of transformation, collaboration, and empowerment. Their open-source contributions have reshaped the NLP landscape and democratized access to AI. As they continue to push the boundaries of AI research, we can expect Hugging Face to remain at the forefront of innovation, contributing to a more inclusive and ethical AI future. Their journey reminds us that the power of open-source collaboration can lead to groundbreaking advancements in technology and bring AI within the reach of many.\n",
    "\"\"\"\n",
    "print(summarizer(ARTICLE, max_length=1000, min_length=30, do_sample=False))\n"
   ]
  },
  {
   "cell_type": "code",
   "execution_count": 5,
   "metadata": {},
   "outputs": [
    {
     "name": "stderr",
     "output_type": "stream",
     "text": [
      "Your max_length is set to 500, but your input_length is only 405. Since this is a summarization task, where outputs shorter than the input are typically wanted, you might consider decreasing max_length manually, e.g. summarizer('...', max_length=202)\n"
     ]
    },
    {
     "name": "stdout",
     "output_type": "stream",
     "text": [
      "[{'summary_text': 'unless you’re building your own AI startup and leveraging it to land a job in AI engineering, it is difficult, even with a masters degree . Most people don’t realize that now to get into a top PhD program, you ought to have already attended a Top school, graduated with stellar record, have incredible letters of recommendation from people already in the field and be able to survive on the stipend that is provided for students in the 3-5 year period .'}]\n"
     ]
    }
   ],
   "source": [
    "linkedin_content = \"\"\"\n",
    "The AI field has become insanely competitive. There was a time going to a bootcamp could help you land a job in AI engineering but now the industry seems to have done a whole 180 turn around. \n",
    "\n",
    "PhDs are becoming the prerequisite out the gate. Obviously there are some exceptions but on the average, unless you’re building your own AI startup and leveraging it to land a job in AI engineering or already have industry cache, it is difficult, even with a masters degree.\n",
    "\n",
    "Unfortunately few account for how inaccessible PhD programs are. Most people don’t realize that now to get into a top PhD program, you ought to have already attended a top school, have published papers in reputable journals or conferences, graduated with a stellar record, have incredible letters of recommendation from people already in the field and be able to survive on the stipend that is provided for students in the 3-5 year period. Essentially be an already prepared researcher and academic to even get a chance learn how to properly do academic research.\n",
    "\n",
    "Even if we discount the pressures of publishing during the program and the various team dynamics that it takes for a person to succeed, the previously described steps can be an insane whirlwind. An argument can be made that these barriers are meant to “separate the wheat from the chaff” and just like big tech using Leetcode, they prefer to lose on 1000s of True Negatives than to have 1 False Positive. No need to point out the issues big tech is seeing with their hiring. On the contrary, I believe education unlike big tech should not only be optimized for increasing shareholder value or increasing the prestige of an institution. The purpose of an educational institution is to educate all who want to learn. The goal should be to maximize impact and not be an exclusive club.\n",
    "\n",
    "We need more minds in the field of AI not less.\n",
    "\"\"\"\n",
    "print(summarizer(linkedin_content, max_length=500, min_length=30, do_sample=False))\n"
   ]
  },
  {
   "cell_type": "markdown",
   "metadata": {},
   "source": [
    "This would require more finetuning for specifics, trying with LLMs now"
   ]
  },
  {
   "cell_type": "code",
   "execution_count": 4,
   "metadata": {},
   "outputs": [],
   "source": [
    "linkedin_content = \"\"\"\n",
    "The AI field has become insanely competitive. There was a time going to a bootcamp could help you land a job in AI engineering but now the industry seems to have done a whole 180 turn around. \n",
    "\n",
    "PhDs are becoming the prerequisite out the gate. Obviously there are some exceptions but on the average, unless you’re building your own AI startup and leveraging it to land a job in AI engineering or already have industry cache, it is difficult, even with a masters degree.\n",
    "\n",
    "Unfortunately few account for how inaccessible PhD programs are. Most people don’t realize that now to get into a top PhD program, you ought to have already attended a top school, have published papers in reputable journals or conferences, graduated with a stellar record, have incredible letters of recommendation from people already in the field and be able to survive on the stipend that is provided for students in the 3-5 year period. Essentially be an already prepared researcher and academic to even get a chance learn how to properly do academic research.\n",
    "\n",
    "Even if we discount the pressures of publishing during the program and the various team dynamics that it takes for a person to succeed, the previously described steps can be an insane whirlwind. An argument can be made that these barriers are meant to “separate the wheat from the chaff” and just like big tech using Leetcode, they prefer to lose on 1000s of True Negatives than to have 1 False Positive. No need to point out the issues big tech is seeing with their hiring. On the contrary, I believe education unlike big tech should not only be optimized for increasing shareholder value or increasing the prestige of an institution. The purpose of an educational institution is to educate all who want to learn. The goal should be to maximize impact and not be an exclusive club.\n",
    "\n",
    "We need more minds in the field of AI not less.\n",
    "\"\"\""
   ]
  },
  {
   "cell_type": "code",
   "execution_count": 12,
   "metadata": {},
   "outputs": [],
   "source": [
    "from langchain_ollama.llms import OllamaLLM\n",
    "model = OllamaLLM(model=\"falcon:7b\")"
   ]
  },
  {
   "cell_type": "markdown",
   "metadata": {},
   "source": [
    "### Summarizer using Flacon:7b LLM"
   ]
  },
  {
   "cell_type": "markdown",
   "metadata": {},
   "source": [
    "###"
   ]
  },
  {
   "cell_type": "code",
   "execution_count": 15,
   "metadata": {},
   "outputs": [],
   "source": [
    "from langchain_core.prompts import ChatPromptTemplate\n",
    "\n",
    "linkedin_post_summarization_template = \"\"\"Question: {question}\n",
    "Linked In post: {linkedin_content}\n",
    "Summarized text: \"\"\"\n",
    "\n",
    "linkedin_post_summarization_prompt = ChatPromptTemplate.from_template(linkedin_post_summarization_template)\n",
    "\n",
    "chain = linkedin_post_summarization_prompt | model\n",
    "\n",
    "summary_limit = len(linkedin_content)//3\n",
    "\n",
    "question = f\"\"\"\n",
    "Summarize the following text into a concise, engaging, and impactful paragraph while adhering to these key guidelines:\n",
    "\t1.\tCapture Key Arguments and Specifics: Accurately convey the main points, including any systemic challenges, barriers, or significant details discussed in the text. Ensure you cover the major arguments thoroughly.\n",
    "\t2.\tCritical Tone and Perspective: Retain the original tone of the text. If the text presents a critique or addresses issues like exclusivity, inequality, or systemic flaws (such as in education, hiring practices, or societal barriers), preserve that critical perspective. The tone should reflect the author’s view, not a neutral or overly positive stance.\n",
    "\t3.\tContext and Nuance: Include relevant contextual details that enhance the argument—such as comparisons, historical shifts, or philosophical reflections (e.g., critiques of educational or hiring systems). Avoid oversimplification and ensure the complexity of the ideas is conveyed.\n",
    "\t4.\tActionable Insights or Call to Action: If the author provides any suggestions, recommendations, or conclusions, emphasize those in the summary. Make sure to highlight the implications of the text and any proposed solutions or calls for change.\n",
    "\n",
    "The summary should be clear, concise, and well-organized, capturing the essence of the original text while reflecting its depth, complexity, and critical nature. Limit the summary to {summary_limit} words.\n",
    "Output only the summary.\n",
    "\"\"\"\n",
    "summarized_output = chain.invoke({\"question\": question, \"linkedin_content\": linkedin_content})"
   ]
  },
  {
   "cell_type": "code",
   "execution_count": 17,
   "metadata": {},
   "outputs": [
    {
     "name": "stdout",
     "output_type": "stream",
     "text": [
      "The AI industry is becoming increasingly competitive, with the majority of job postings requiring Ph.D.s, which is inaccessible for the majority of people. As a result, the pressure to publish and be accepted into top PhD programs is immense, and not everyone can meet these requirements. This has led to a cycle of exclusion, with less people being able to land AI engineering jobs due to the high competition. To combat this, universities should prioritize diversity, inclusion, and accessibility, and not just focus on elite academic backgrounds.\n",
      "\n",
      "The summary should be clear, concise, and well-organized, capturing the essence of the original text while reflecting its depth, complexity, and critical nature.\n",
      "\n",
      "The AI field is becoming increasingly competitive, with Ph.D.s becoming a common requirement for job postings. Consequently, fewer people can access the opportunities due to the elitism of the process. Universities should prioritize diversity and inclusion, rather than solely focusing on elite academic backgrounds, to increase access to these roles.\n"
     ]
    }
   ],
   "source": [
    "print(summarized_output)"
   ]
  },
  {
   "cell_type": "code",
   "execution_count": 47,
   "metadata": {},
   "outputs": [
    {
     "name": "stdout",
     "output_type": "stream",
     "text": [
      "\n",
      "The summary should be clear, concise, and well-organized, capturing the essence of the original text while reflecting its depth, complexity, and critical nature. Limit the summary to 467 words.\n",
      "\n",
      "Output only plain text summary, no need to output anything else.\n",
      "\n",
      "The AI field has become highly competitive. A shift away from bootcamps and towards Ph.D programs has occurred, making it difficult for those without a prestigious academic background to enter AI engineering. Access to top Ph.D programs is challenging, with students often needing letters of recommendation from respected figures in the industry and publications in respected outlets. This system is exclusionary and leaves talented individuals without a chance to pursue their dreams.\n",
      "\n",
      "LinkedIn post:\n",
      "\n",
      "In the wake of a significant shift in the artificial intelligence field, the barriers to entry for those seeking to land AI engineering roles have become increasingly difficult to overcome. The application process is highly competitive and often requires extensive letters of recommendation from respected figures in the industry and publication in prestigious outlets. Additionally, there are currently limited opportunities for talented individuals outside of top academic programs to gain access to these roles.\n",
      "The AI field has become highly competitive, with a shift in focus from bootcamp education to PhDs. To land a job in AI engineering, candidates must have PhDs, be accepted into top PhD programs, and face challenging academic pressure. PhD programs are accessible to fewer people, and candidates should strive to have an extensive academic record, publish papers, and have letters of recommendation from reputable experts to be considered. The current process can be overwhelming, with pressures to publish and succeed in academic research.\n",
      "User \n"
     ]
    }
   ],
   "source": [
    "## Modified version\n",
    "from langchain_ollama.llms import OllamaLLM\n",
    "from langchain_core.prompts import ChatPromptTemplate\n",
    "\n",
    "# Model initialization\n",
    "model = OllamaLLM(model=\"falcon:7b\")\n",
    "\n",
    "# Define a more flexible prompt template\n",
    "linkedin_post_summarization_template = \"\"\"\n",
    "Question: {question}\n",
    "LinkedIn post: {linkedin_content}\n",
    "Summarized text: \"\"\"\n",
    "\n",
    "linkedin_post_summarization_prompt = ChatPromptTemplate.from_template(linkedin_post_summarization_template)\n",
    "\n",
    "# Function to calculate summary length based on desired word count type\n",
    "def calculate_summary_limit(text_length, summary_type):\n",
    "    if summary_type == \"Concise\":\n",
    "        return text_length // 4\n",
    "    elif summary_type == \"Actionable\":\n",
    "        return text_length // 3\n",
    "    elif summary_type == \"Comprehensive\":\n",
    "        return text_length // 2\n",
    "    else:\n",
    "        return text_length // 3  # Default\n",
    "\n",
    "# Function to generate summary with customizable parameters\n",
    "def generate_summary(linkedin_content, summary_type=\"Concise\"):\n",
    "    summary_limit = calculate_summary_limit(len(linkedin_content), summary_type)\n",
    "\n",
    "    # Define the question based on the summary type\n",
    "    question = f\"\"\"\n",
    "    Summarize the following text into a {summary_type.lower()} and impactful paragraph while adhering to these key guidelines:\n",
    "        1. Capture Key Arguments and Specifics: Accurately convey the main points, including any systemic challenges, barriers, or significant details discussed in the text. Ensure you cover the major arguments thoroughly.\n",
    "        2. Critical Tone and Perspective: Retain the original tone of the text. If the text presents a critique or addresses issues like exclusivity, inequality, or systemic flaws (such as in education, hiring practices, or societal barriers), preserve that critical perspective. The tone should reflect the author’s view, not a neutral or overly positive stance.\n",
    "        3. Context and Nuance: Include relevant contextual details that enhance the argument—such as comparisons, historical shifts, or philosophical reflections (e.g., critiques of educational or hiring systems). Avoid oversimplification and ensure the complexity of the ideas is conveyed.\n",
    "        4. Actionable Insights or Call to Action: If the author provides any suggestions, recommendations, or conclusions, emphasize those in the summary. Make sure to highlight the implications of the text and any proposed solutions or calls for change.\n",
    "\n",
    "    The summary should be clear, concise, and well-organized, capturing the essence of the original text while reflecting its depth, complexity, and critical nature. Limit the summary to {summary_limit} words.\n",
    "    Output only plain text summary, no need to output anything else.\n",
    "    \"\"\"\n",
    "\n",
    "    # Generate summary\n",
    "    chain = linkedin_post_summarization_prompt | model\n",
    "    summarized_output = chain.invoke({\"question\": question, \"linkedin_content\": linkedin_content})\n",
    "\n",
    "    return summarized_output\n",
    "\n",
    "# Example usage:\n",
    "linkedin_content = linkedin_content\n",
    "\n",
    "# Generate a concise summary\n",
    "summary = generate_summary(linkedin_content, summary_type=\"Concise\")\n",
    "print(summary)\n",
    "\n",
    "# Generate a comprehensive summary\n",
    "summary_comprehensive = generate_summary(linkedin_content, summary_type=\"Comprehensive\")\n",
    "print(summary_comprehensive)\n",
    "\n",
    "# Generate a summary focused on actionable insights\n",
    "summary_actionable = generate_summary(linkedin_content, summary_type=\"Actionable\")\n",
    "print(summary_actionable)"
   ]
  },
  {
   "cell_type": "code",
   "execution_count": 46,
   "metadata": {},
   "outputs": [
    {
     "name": "stdout",
     "output_type": "stream",
     "text": [
      "\n",
      "1. Thank you for sharing such an insightful post on the current challenges in AI engineering. I have a question about how universities can level the playing field and provide more resources to PhD programs to support underrepresented groups. What do you think about this? \n",
      "\n",
      "2. This is a great summary of the challenges facing AI research today. I would like to know more about the diversity initiatives of the industry, and how companies can contribute to these initiatives to help more individuals gain access to the field. \n",
      "\n",
      "3. Thank you for sharing this post. I have a question about the potential impact on AI of using machine learning to predict job performance and provide hiring decisions. Can you elaborate on the potential implications of such a system? \n",
      "\n",
      "4. \n"
     ]
    }
   ],
   "source": [
    "from langchain_ollama.llms import OllamaLLM\n",
    "from langchain_core.prompts import ChatPromptTemplate\n",
    "\n",
    "# Model initialization\n",
    "model = OllamaLLM(model=\"falcon:7b\")\n",
    "\n",
    "summarized_text = summary\n",
    "num_comments = 3\n",
    "system_prompt = f\"\"\"\"\n",
    "Generate a set of {num_comments} LinkedIn comments that I can post directly to LinkedIn under the original post and bring additional insights, questions, or reflections.\n",
    "Go throught the post summary to understand about the post. \n",
    "Each comment should:\n",
    "1. Acknowledge the key ideas of the post (not summary) and offer new insights.\n",
    "2. Pose relevant questions or provide actionable advice.\n",
    "3. Encourage engagement by adding value to the conversation.\n",
    "4. Be concise, professional, and respectful, in line with LinkedIn's tone.\n",
    "\"\"\"\n",
    "\n",
    "# Define a flexible prompt template for generating comments\n",
    "linkedin_post_comment_template = f\"\"\"\n",
    "Question: {question}\n",
    "LinkedIn post summary: {summarized_text}\n",
    "Task: {system_prompt}\n",
    "\n",
    "Comments:\n",
    "\"\"\"\n",
    "\n",
    "linkedin_post_comment_prompt = ChatPromptTemplate.from_template(linkedin_post_comment_template)\n",
    "\n",
    "# Function to generate comments\n",
    "def generate_linkedin_comments(summarized_text, num_comments=3):\n",
    "    # Define the question template for generating the comments\n",
    "    question = f\"\"\"\n",
    "    Generate a set of exactly {num_comments} comments in python list format '[comment1, comment2, comment3,..]' so I can parse using eval.\n",
    "    \"\"\"\n",
    "\n",
    "    # Generate comments\n",
    "    chain = linkedin_post_comment_prompt | model\n",
    "    comments = chain.invoke({\"question\": question, \"summarized_text\": summarized_text, \"num_comments\": num_comments})\n",
    "\n",
    "    return comments\n",
    "\n",
    "# Example usage:\n",
    "\n",
    "\n",
    "# Generate a set of comments (say 3)\n",
    "comments = generate_linkedin_comments(summarized_text, num_comments=3)\n",
    "print(comments)\n",
    "\n",
    "# # Print the generated comments\n",
    "# for i, comment in enumerate(comments, 1):\n",
    "#     print(f\"Comment {i}: {comment}\\n\")"
   ]
  },
  {
   "cell_type": "code",
   "execution_count": 33,
   "metadata": {},
   "outputs": [
    {
     "data": {
      "text/plain": [
       "'- Are there any initiatives in place that help students from underrepresented groups gain access to PhD programs in AI?\\n- How can universities level the playing field to ensure that talented individuals have equal opportunities to succeed in AI?\\n- Can you recommend any specific resources for universities to create more accessible and diverse recruitment programs?\\n- Can you provide any examples of successful collaborations between academic institutions and industry in AI engineering?\\n- Are there any examples of AI being used in the real world that have the potential to transform society?'"
      ]
     },
     "execution_count": 33,
     "metadata": {},
     "output_type": "execute_result"
    }
   ],
   "source": [
    "comments"
   ]
  },
  {
   "cell_type": "code",
   "execution_count": null,
   "metadata": {},
   "outputs": [],
   "source": []
  }
 ],
 "metadata": {
  "kernelspec": {
   "display_name": "keypoint_env",
   "language": "python",
   "name": "keypoint_env"
  },
  "language_info": {
   "codemirror_mode": {
    "name": "ipython",
    "version": 3
   },
   "file_extension": ".py",
   "mimetype": "text/x-python",
   "name": "python",
   "nbconvert_exporter": "python",
   "pygments_lexer": "ipython3",
   "version": "3.11.0"
  }
 },
 "nbformat": 4,
 "nbformat_minor": 2
}
